{
 "cells": [
  {
   "cell_type": "code",
   "execution_count": 17,
   "id": "1e75a09d-ecfc-4d93-be6c-ace6e5e5bf04",
   "metadata": {},
   "outputs": [],
   "source": [
    "import cv2\n",
    "import numpy as np\n",
    "import os"
   ]
  },
  {
   "cell_type": "code",
   "execution_count": 23,
   "id": "0fd9cbe9-ea2d-4a18-9340-cc2828bdf2e5",
   "metadata": {},
   "outputs": [],
   "source": [
    "# Adjusted HSV range for orange color (wider range to include different shades)\n",
    "lower_orange1 = np.array([0, 50, 50])   # Slightly darker orange\n",
    "upper_orange1 = np.array([15, 255, 255]) \n",
    "\n",
    "lower_orange2 = np.array([16, 100, 100])  # Brighter orange\n",
    "upper_orange2 = np.array([30, 255, 255])\n"
   ]
  },
  {
   "cell_type": "code",
   "execution_count": 19,
   "id": "aa396781-71e6-40e7-993e-575ac7b0cfc9",
   "metadata": {},
   "outputs": [],
   "source": [
    "\n",
    "# Example usage\n",
    "input_frame_path = \"cropped-frames/amilo/20241001_152509_brightness/frame_0000.jpg\"  # Path to your input frame image\n",
    "output_frame_path = \"colored.jpg\"  # Path to save the extracted gloves\n"
   ]
  },
  {
   "cell_type": "code",
   "execution_count": 24,
   "id": "63b9ab01-57ae-4ea0-9bf4-f681fa6e4303",
   "metadata": {},
   "outputs": [],
   "source": [
    "\n",
    "# Function to extract only the orange gloves from a single frame\n",
    "def extract_orange_gloves_from_frame(frame):\n",
    "    # Preprocess: Apply Gaussian blur to smooth the image and reduce noise\n",
    "    blurred_frame = cv2.GaussianBlur(frame, (5, 5), 0)\n",
    "    \n",
    "    # Convert the frame to HSV color space\n",
    "    hsv_frame = cv2.cvtColor(blurred_frame, cv2.COLOR_BGR2HSV)\n",
    "    \n",
    "    # Create multiple masks for different shades of orange\n",
    "    mask1 = cv2.inRange(hsv_frame, lower_orange1, upper_orange1)\n",
    "    mask2 = cv2.inRange(hsv_frame, lower_orange2, upper_orange2)\n",
    "    \n",
    "    # Combine both masks\n",
    "    combined_mask = cv2.bitwise_or(mask1, mask2)\n",
    "    \n",
    "    # Optional: Apply morphological operations to clean up the mask\n",
    "    combined_mask = cv2.morphologyEx(combined_mask, cv2.MORPH_CLOSE, np.ones((5, 5), np.uint8))\n",
    "    \n",
    "    # Extract the gloves from the frame using the combined mask\n",
    "    gloves_only = cv2.bitwise_and(frame, frame, mask=combined_mask)\n",
    "    \n",
    "    return gloves_only\n",
    "\n"
   ]
  },
  {
   "cell_type": "code",
   "execution_count": 21,
   "id": "1fd3fe6e-bf5b-49b2-ab6d-e84f4cfebb1c",
   "metadata": {},
   "outputs": [],
   "source": [
    "\n",
    "# Load and process a single frame from an image file\n",
    "def process_frame(image_path, output_path):\n",
    "    frame = cv2.imread(image_path)\n",
    "    \n",
    "    if frame is None:\n",
    "        print(f\"Error: Could not load image {image_path}\")\n",
    "        return\n",
    "    \n",
    "    # Extract the orange gloves\n",
    "    gloves_frame = extract_orange_gloves_from_frame(frame)\n",
    "    \n",
    "    # Save the result as an image\n",
    "    cv2.imwrite(output_path, gloves_frame)\n",
    "    print(f\"Processed and saved frame with gloves to {output_path}\")\n"
   ]
  },
  {
   "cell_type": "code",
   "execution_count": 25,
   "id": "9ad808d8-21a9-4a5c-8f6a-342e25952dda",
   "metadata": {},
   "outputs": [
    {
     "name": "stdout",
     "output_type": "stream",
     "text": [
      "Processed and saved frame with gloves to colored.jpg\n"
     ]
    }
   ],
   "source": [
    "# Extract gloves from the frame and save\n",
    "process_frame(input_frame_path, output_frame_path)\n"
   ]
  },
  {
   "cell_type": "code",
   "execution_count": 36,
   "id": "c5699208-c17d-49ab-89df-1e4077086b39",
   "metadata": {},
   "outputs": [
    {
     "name": "stdout",
     "output_type": "stream",
     "text": [
      "Extracted color image saved to: output_image.jpg\n"
     ]
    }
   ],
   "source": [
    "import cv2\n",
    "import numpy as np\n",
    "\n",
    "# Function to extract specific color from image and save the result\n",
    "def extract_color_from_image(input_image_path, output_image_path, lower_color, upper_color):\n",
    "    # Read the input image\n",
    "    frame = cv2.imread(input_image_path)\n",
    "    \n",
    "    if frame is None:\n",
    "        print(f\"Error: Unable to read the image at {input_image_path}\")\n",
    "        return\n",
    "    \n",
    "    # Convert the image to HSV color space\n",
    "    hsv_frame = cv2.cvtColor(frame, cv2.COLOR_BGR2HSV)\n",
    "    \n",
    "    # Create a mask for the color range\n",
    "    mask = cv2.inRange(hsv_frame, lower_color, upper_color)\n",
    "    \n",
    "    # Apply the mask to the image to extract the specific color\n",
    "    extracted_color = cv2.bitwise_and(frame, frame, mask=mask)\n",
    "    \n",
    "    # Save the extracted color image to the output path\n",
    "    cv2.imwrite(output_image_path, extracted_color)\n",
    "    \n",
    "    print(f\"Extracted color image saved to: {output_image_path}\")\n",
    "\n",
    "# Example usage\n",
    "if __name__ == \"__main__\":\n",
    "    # Define input and output image paths\n",
    "    input_image_path = 'cropped-frames/amilo/20241002_112728_brightness/frame_0003.jpg'  # Path to the input image\n",
    "    output_image_path = 'output_image.jpg'  # Path to save the extracted image\n",
    "    \n",
    "    # Define the lower and upper bounds of the color to extract in HSV format\n",
    "    # Example: Extracting blue color\n",
    "    lower_blue = np.array([10, 50, 50])   # Lower HSV bound for blue\n",
    "    upper_blue = np.array([35, 255, 255])  # Upper HSV bound for blue\n",
    "    \n",
    "    # Call the function with the paths and color range\n",
    "    extract_color_from_image(input_image_path, output_image_path, lower_blue, upper_blue)\n"
   ]
  },
  {
   "cell_type": "code",
   "execution_count": null,
   "id": "2f0c1a82-4972-4c99-b312-705f24e1d24d",
   "metadata": {},
   "outputs": [],
   "source": [
    "    # For example, let's extract a blue color\n",
    "    lower_blue = np.array([21, 82, 70])  # Lower HSV bound for blue\n",
    "    upper_blue = np.array([27, 53, 95]) "
   ]
  }
 ],
 "metadata": {
  "kernelspec": {
   "display_name": "myworld",
   "language": "python",
   "name": "myworld"
  },
  "language_info": {
   "codemirror_mode": {
    "name": "ipython",
    "version": 3
   },
   "file_extension": ".py",
   "mimetype": "text/x-python",
   "name": "python",
   "nbconvert_exporter": "python",
   "pygments_lexer": "ipython3",
   "version": "3.12.4"
  }
 },
 "nbformat": 4,
 "nbformat_minor": 5
}
