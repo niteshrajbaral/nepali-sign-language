{
 "cells": [
  {
   "cell_type": "code",
   "execution_count": 1,
   "id": "c2a72bc6-01a8-4fcc-bdeb-e377be68e8ea",
   "metadata": {},
   "outputs": [],
   "source": [
    "import os\n",
    "import shutil\n",
    "import random"
   ]
  },
  {
   "cell_type": "code",
   "execution_count": 2,
   "id": "3192c149-2c6c-41fc-a989-f4b23a12c2a6",
   "metadata": {},
   "outputs": [],
   "source": [
    "# Directory paths\n",
    "augmented_videos_path = \"augmented-videos\"  # Augmented videos directory\n",
    "split_videos_path = \"split-videos\"  # Directory to save split data (train and test folders)\n"
   ]
  },
  {
   "cell_type": "code",
   "execution_count": 3,
   "id": "5dc95529-83c9-44d3-9dc4-3495992d9d0b",
   "metadata": {},
   "outputs": [],
   "source": [
    "\n",
    "\n",
    "# Function to split data into train and test sets\n",
    "def split_data(augmented_videos_path, split_videos_path, train_ratio=0.8):\n",
    "    train_dir = os.path.join(split_videos_path, 'train')\n",
    "    test_dir = os.path.join(split_videos_path, 'test')\n",
    "\n",
    "    # Ensure train and test directories exist\n",
    "    if not os.path.exists(train_dir):\n",
    "        os.makedirs(train_dir)\n",
    "    if not os.path.exists(test_dir):\n",
    "        os.makedirs(test_dir)\n",
    "\n",
    "    # Iterate through each class folder\n",
    "    for class_dir in os.listdir(augmented_videos_path):\n",
    "        class_path = os.path.join(augmented_videos_path, class_dir)\n",
    "        \n",
    "        if not os.path.isdir(class_path):\n",
    "            continue\n",
    "\n",
    "        # Create corresponding directories in train and test sets\n",
    "        train_class_dir = os.path.join(train_dir, class_dir)\n",
    "        test_class_dir = os.path.join(test_dir, class_dir)\n",
    "\n",
    "        if not os.path.exists(train_class_dir):\n",
    "            os.makedirs(train_class_dir)\n",
    "        if not os.path.exists(test_class_dir):\n",
    "            os.makedirs(test_class_dir)\n",
    "\n",
    "        # Get all videos in the class folder\n",
    "        videos = os.listdir(class_path)\n",
    "\n",
    "        # Shuffle videos to randomize the split\n",
    "        random.shuffle(videos)\n",
    "\n",
    "        # Determine the split index\n",
    "        split_index = int(train_ratio * len(videos))\n",
    "\n",
    "        # Assign videos to train and test sets\n",
    "        train_videos = videos[:split_index]\n",
    "        test_videos = videos[split_index:]\n",
    "\n",
    "        # Copy videos to the train set\n",
    "        for video in train_videos:\n",
    "            src_path = os.path.join(class_path, video)\n",
    "            dest_path = os.path.join(train_class_dir, video)\n",
    "            shutil.copy(src_path, dest_path)\n",
    "\n",
    "        # Copy videos to the test set\n",
    "        for video in test_videos:\n",
    "            src_path = os.path.join(class_path, video)\n",
    "            dest_path = os.path.join(test_class_dir, video)\n",
    "            shutil.copy(src_path, dest_path)\n",
    "\n",
    "        print(f\"Class '{class_dir}': {len(train_videos)} training videos, {len(test_videos)} testing videos.\")\n",
    "\n"
   ]
  },
  {
   "cell_type": "code",
   "execution_count": 4,
   "id": "ac4385f1-f3ff-47a2-9eae-236322957863",
   "metadata": {},
   "outputs": [
    {
     "name": "stdout",
     "output_type": "stream",
     "text": [
      "Class 'Amilo': 112 training videos, 28 testing videos.\n",
      "Class 'Baisakh': 112 training videos, 28 testing videos.\n",
      "Class 'Falful': 112 training videos, 28 testing videos.\n",
      "Class 'Ghar': 112 training videos, 28 testing videos.\n",
      "Class 'Gundruk': 112 training videos, 28 testing videos.\n",
      "Class 'Guy': 112 training videos, 28 testing videos.\n",
      "Class 'Hariyo': 112 training videos, 28 testing videos.\n",
      "Class 'Hathi': 112 training videos, 28 testing videos.\n",
      "Class 'Jestha': 112 training videos, 28 testing videos.\n",
      "Class 'Kera': 112 training videos, 28 testing videos.\n",
      "Class 'Khairo': 112 training videos, 28 testing videos.\n",
      "Class 'Kharayo': 112 training videos, 28 testing videos.\n",
      "Class 'Mahina': 112 training videos, 28 testing videos.\n",
      "Class 'Naadi': 112 training videos, 28 testing videos.\n",
      "Class 'Naang': 106 training videos, 27 testing videos.\n",
      "Class 'Nariwal': 112 training videos, 28 testing videos.\n",
      "Class 'Poush': 112 training videos, 28 testing videos.\n",
      "Class 'Saag': 112 training videos, 28 testing videos.\n",
      "Class 'Shau': 112 training videos, 28 testing videos.\n",
      "Class 'Sungur': 112 training videos, 28 testing videos.\n"
     ]
    }
   ],
   "source": [
    "# Call the function to split data\n",
    "split_data(augmented_videos_path, split_videos_path, train_ratio=0.8)\n"
   ]
  },
  {
   "cell_type": "code",
   "execution_count": 1,
   "id": "34d37fed-6b7a-40a1-b8e1-c2d5aef585e5",
   "metadata": {},
   "outputs": [],
   "source": [
    "import pandas as pd"
   ]
  },
  {
   "cell_type": "code",
   "execution_count": 2,
   "id": "7f75d429-22f6-4234-8bb4-7d9d4ba008c1",
   "metadata": {},
   "outputs": [],
   "source": [
    "\n",
    "# Paths to your train and test CSV files\n",
    "train_csv_path = \"train_data.csv\"\n",
    "test_csv_path = \"test_data.csv\"\n",
    "\n",
    "# Function to shuffle CSV data and save it\n",
    "def shuffle_csv(input_csv_path, output_csv_path):\n",
    "    # Load the CSV file\n",
    "    df = pd.read_csv(input_csv_path)\n",
    "    \n",
    "    # Shuffle the DataFrame\n",
    "    shuffled_df = df.sample(frac=1).reset_index(drop=True)\n",
    "    \n",
    "    # Save the shuffled DataFrame back to CSV\n",
    "    shuffled_df.to_csv(output_csv_path, index=False)\n",
    "    print(f\"Shuffled CSV saved to {output_csv_path}\")\n",
    "\n",
    "\n"
   ]
  },
  {
   "cell_type": "code",
   "execution_count": 3,
   "id": "23139e8b-53a7-48bc-98ce-e67b643f0865",
   "metadata": {},
   "outputs": [
    {
     "name": "stdout",
     "output_type": "stream",
     "text": [
      "Shuffled CSV saved to train_data.csv\n",
      "Shuffled CSV saved to test_data.csv\n"
     ]
    }
   ],
   "source": [
    "# Shuffle train and test CSV files\n",
    "shuffle_csv(train_csv_path, train_csv_path)  # Overwrite original train CSV\n",
    "shuffle_csv(test_csv_path, test_csv_path)    # Overwrite original test CSV"
   ]
  }
 ],
 "metadata": {
  "kernelspec": {
   "display_name": "myworld",
   "language": "python",
   "name": "myworld"
  },
  "language_info": {
   "codemirror_mode": {
    "name": "ipython",
    "version": 3
   },
   "file_extension": ".py",
   "mimetype": "text/x-python",
   "name": "python",
   "nbconvert_exporter": "python",
   "pygments_lexer": "ipython3",
   "version": "3.12.4"
  }
 },
 "nbformat": 4,
 "nbformat_minor": 5
}
