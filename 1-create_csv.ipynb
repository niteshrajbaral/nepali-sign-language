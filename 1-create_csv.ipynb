{
 "cells": [
  {
   "cell_type": "code",
   "execution_count": 1,
   "id": "b7cd2df3-2500-4723-ac02-0e30dbb1acfa",
   "metadata": {},
   "outputs": [],
   "source": [
    "import os\n",
    "import csv\n"
   ]
  },
  {
   "cell_type": "code",
   "execution_count": 5,
   "id": "e1b996a9-5c70-478e-9ccb-60ee4bdf432f",
   "metadata": {},
   "outputs": [],
   "source": [
    "# Directory paths\n",
    "train_dir = \"split-videos/train\"  # Training data directory\n",
    "test_dir = \"split-videos/test\"    # Testing data directory\n",
    "\n",
    "train_csv_path = \"train_data.csv\"  # Output path for training CSV\n",
    "test_csv_path = \"test_data.csv\"    # Output path for testing CSV"
   ]
  },
  {
   "cell_type": "code",
   "execution_count": 3,
   "id": "79f188e6-cdf6-4d8e-a255-72f4f90d540b",
   "metadata": {},
   "outputs": [],
   "source": [
    "\n",
    "# Function to generate CSV from dataset folders\n",
    "def create_csv(data_dir, output_csv_path):\n",
    "    video_data = []\n",
    "\n",
    "    # Traverse the folder structure\n",
    "    for class_dir in os.listdir(data_dir):\n",
    "        class_path = os.path.join(data_dir, class_dir)\n",
    "        \n",
    "        if not os.path.isdir(class_path):\n",
    "            continue\n",
    "        \n",
    "        # Iterate over all videos in the class folder\n",
    "        for video in os.listdir(class_path):\n",
    "            video_path = os.path.join(class_path, video)\n",
    "            if video.endswith(('.mp4', '.avi', '.mov')):  # You can add other video extensions if necessary\n",
    "                video_data.append([video_path, class_dir])  # Append video path and class label\n",
    "\n",
    "    # Write to CSV file\n",
    "    with open(output_csv_path, mode='w', newline='') as csv_file:\n",
    "        writer = csv.writer(csv_file)\n",
    "        writer.writerow(['video_path', 'class_label'])  # Write header\n",
    "        writer.writerows(video_data)  # Write data rows\n",
    "\n",
    "    print(f\"CSV file created at: {output_csv_path}\")\n",
    "\n",
    "\n",
    "\n",
    "\n"
   ]
  },
  {
   "cell_type": "code",
   "execution_count": 6,
   "id": "b4d8e00d-4be9-476b-8a5d-50f000db0a92",
   "metadata": {},
   "outputs": [
    {
     "name": "stdout",
     "output_type": "stream",
     "text": [
      "CSV file created at: train_data.csv\n",
      "CSV file created at: test_data.csv\n"
     ]
    }
   ],
   "source": [
    "# Create CSV files for train and test sets\n",
    "create_csv(train_dir, train_csv_path)\n",
    "create_csv(test_dir, test_csv_path)"
   ]
  },
  {
   "cell_type": "code",
   "execution_count": 15,
   "id": "a33a4932-c684-4475-bccd-78c94ee7729c",
   "metadata": {},
   "outputs": [],
   "source": [
    "# Example usage\n",
    "processed_frames = load_and_process_video(video_path, max_frames=0)  # Process all frames or set a max number"
   ]
  }
 ],
 "metadata": {
  "kernelspec": {
   "display_name": "myworld",
   "language": "python",
   "name": "myworld"
  },
  "language_info": {
   "codemirror_mode": {
    "name": "ipython",
    "version": 3
   },
   "file_extension": ".py",
   "mimetype": "text/x-python",
   "name": "python",
   "nbconvert_exporter": "python",
   "pygments_lexer": "ipython3",
   "version": "3.12.4"
  }
 },
 "nbformat": 4,
 "nbformat_minor": 5
}
